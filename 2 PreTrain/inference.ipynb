{
 "cells": [
  {
   "metadata": {},
   "cell_type": "markdown",
   "source": "## 合并模型参数分片",
   "id": "4c70f488832da50d"
  },
  {
   "cell_type": "code",
   "id": "initial_id",
   "metadata": {
    "collapsed": true
   },
   "source": [
    "from deepspeed.utils.zero_to_fp32 import convert_zero_checkpoint_to_fp32_state_dict\n",
    "\n",
    "checkpoint_dir = \"./output/checkpoint-4706\"  # 分片文件所在目录\n",
    "output_file = \"./output/pytorch_model\"  # 合并后输出路径\n",
    "\n",
    "# 合并模型参数分片\n",
    "convert_zero_checkpoint_to_fp32_state_dict(checkpoint_dir, output_file)"
   ],
   "outputs": [],
   "execution_count": null
  },
  {
   "metadata": {},
   "cell_type": "markdown",
   "source": "## 推理",
   "id": "bfd21a4caa040bf6"
  },
  {
   "metadata": {
    "ExecuteTime": {
     "end_time": "2025-03-23T15:18:26.323476Z",
     "start_time": "2025-03-23T15:18:22.908741Z"
    }
   },
   "cell_type": "code",
   "source": [
    "from transformers import AutoModelForCausalLM, AutoTokenizer\n",
    "import torch\n",
    "\n",
    "model = AutoModelForCausalLM.from_pretrained(\n",
    "    \"./output/pytorch_model\",\n",
    "    device_map=\"auto\",\n",
    "    torch_dtype=torch.float16,\n",
    ")\n",
    "tokenizer = AutoTokenizer.from_pretrained(\"./output/pytorch_model\")"
   ],
   "id": "584e8a40cea81e4b",
   "outputs": [],
   "execution_count": 8
  },
  {
   "metadata": {
    "ExecuteTime": {
     "end_time": "2025-03-23T15:26:02.933797Z",
     "start_time": "2025-03-23T15:25:58.475274Z"
    }
   },
   "cell_type": "code",
   "source": [
    "text = \"【圣安娜县 (厄瓜多尔)】\"\n",
    "input_ids = tokenizer(text, return_tensors=\"pt\").input_ids.to(\"cuda\")\n",
    "output = model.generate(input_ids, max_new_tokens=100)\n",
    "print(tokenizer.decode(output[0]))"
   ],
   "id": "65630ecbd89745fd",
   "outputs": [
    {
     "name": "stderr",
     "output_type": "stream",
     "text": [
      "The attention mask and the pad token id were not set. As a consequence, you may observe unexpected behavior. Please pass your input's `attention_mask` to obtain reliable results.\n",
      "Setting `pad_token_id` to `eos_token_id`:151643 for open-end generation.\n"
     ]
    },
    {
     "name": "stdout",
     "output_type": "stream",
     "text": [
      "【圣安娜县 (厄瓜多尔)】圣彼得县（Cé County）是美国堪萨斯州所辖的一个县。== 地理 ==圣彼得县的座县，而该地的面积为UTC-6，即北美中部时区为UTC-6，即北美中部时区（EST）。== 参考文献 ==*  archivedate=2016，位于法国上法兰克西塔尼半岛西部省份，为UTC-6，快时针为UTC-6，\n"
     ]
    }
   ],
   "execution_count": 14
  }
 ],
 "metadata": {
  "kernelspec": {
   "display_name": "Python 3",
   "language": "python",
   "name": "python3"
  },
  "language_info": {
   "codemirror_mode": {
    "name": "ipython",
    "version": 2
   },
   "file_extension": ".py",
   "mimetype": "text/x-python",
   "name": "python",
   "nbconvert_exporter": "python",
   "pygments_lexer": "ipython2",
   "version": "2.7.6"
  }
 },
 "nbformat": 4,
 "nbformat_minor": 5
}
