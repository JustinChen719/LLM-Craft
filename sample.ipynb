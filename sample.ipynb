{
 "cells": [
  {
   "cell_type": "code",
   "id": "initial_id",
   "metadata": {
    "collapsed": true,
    "ExecuteTime": {
     "end_time": "2025-03-23T05:05:26.011962Z",
     "start_time": "2025-03-23T05:05:24.447472Z"
    }
   },
   "source": [
    "import os\n",
    "from datasets import load_dataset\n",
    "\n",
    "os.environ['HF_DATASETS_CACHE'] = \"/root/lanyun-tmp/hf/cache\"\n",
    "\n",
    "dataset = load_dataset(\n",
    "    path=\"/root/lanyun-tmp/hf/wikipedia-zh-mnbvc\",\n",
    "    cache_dir=\"/root/lanyun-tmp/hf/cache\",\n",
    "    num_proc=36,\n",
    ")"
   ],
   "outputs": [
    {
     "name": "stderr",
     "output_type": "stream",
     "text": [
      "/root/miniconda/lib/python3.12/site-packages/tqdm/auto.py:21: TqdmWarning: IProgress not found. Please update jupyter and ipywidgets. See https://ipywidgets.readthedocs.io/en/stable/user_install.html\n",
      "  from .autonotebook import tqdm as notebook_tqdm\n"
     ]
    }
   ],
   "execution_count": 2
  },
  {
   "metadata": {
    "ExecuteTime": {
     "end_time": "2025-03-23T05:19:12.236100Z",
     "start_time": "2025-03-23T05:19:12.223750Z"
    }
   },
   "cell_type": "code",
   "source": [
    "# 打印基本信息\n",
    "\"\".join([line[\"内容\"] for line in dataset['train'][10025][\"段落\"]])"
   ],
   "id": "6b0934017f920a2a",
   "outputs": [
    {
     "data": {
      "text/plain": [
       "'【蝠鲼属】蝠鲼（学名：Mobula）又称魔鬼鱼，体长可达8米，重达1吨以上，身体扁平，有强大的胸鳍，类似翅膀，在海洋中巡游，胸鳍前有两个薄、窄、似耳朵的突起，可以向口中收集食物，牙齿细小，主要以浮游生物和小鱼为食，经常在珊瑚礁附近巡游觅食，性情温和。在分类上，蝠鲼科（Mobulidae）仍在研究，有时它会独立成科，但大多数和鲼科的鱼合并在一起。蝠鲼的外形类似鬼蝠𫚉(Manta)，在2017年之前被分为两个不同的属，前者为蝠鲼属（Mobula）后者为前口蝠鲼属（Manta），2017年后经过ＤＮＡ检测确认两生物同为蝠鲼属（Mobula）。蝠鲼俗作膨鱼，膨鱼鳃就是蝠鲼的鳃。坊间盛传“膨鱼鳃是一种万灵药”，然而根据参考资料并非如此。==种==目前辨认出九个种：*侏儒蝠鲼（Mobula eregoodootenkee）*下口蝠鲼（Mobula hypostoma）*日本蝠鲼（Mobula japanica）*库氏蝠鲼（Mobula kuhlii）*无刺蝠鲼（Mobula mobular）*芒基蝠鲼（Mobula munkiana）*罗切氏蝠鲼（Mobula rochebrunei）*褐背蝠鲼（Mobula tarapacana）*印度蝠鲼（Mobula thurstoni）==图集====参考文献====外部连结==* The Flying Mobulas of the Sea of Cortez'"
      ]
     },
     "execution_count": 11,
     "metadata": {},
     "output_type": "execute_result"
    }
   ],
   "execution_count": 11
  },
  {
   "metadata": {
    "ExecuteTime": {
     "end_time": "2025-03-23T05:04:48.616939Z",
     "start_time": "2025-03-23T05:04:48.611775Z"
    }
   },
   "cell_type": "code",
   "source": "",
   "id": "3f30144d3139d3d3",
   "outputs": [],
   "execution_count": null
  }
 ],
 "metadata": {
  "kernelspec": {
   "display_name": "Python 3",
   "language": "python",
   "name": "python3"
  },
  "language_info": {
   "codemirror_mode": {
    "name": "ipython",
    "version": 2
   },
   "file_extension": ".py",
   "mimetype": "text/x-python",
   "name": "python",
   "nbconvert_exporter": "python",
   "pygments_lexer": "ipython2",
   "version": "2.7.6"
  }
 },
 "nbformat": 4,
 "nbformat_minor": 5
}
